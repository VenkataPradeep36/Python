{
 "cells": [
  {
   "cell_type": "code",
   "execution_count": 1,
   "id": "f615eca0-53cc-426a-9994-c4d2e820e93c",
   "metadata": {},
   "outputs": [],
   "source": [
    "#1. What is the present value of $418 received in 12 years with an annual discount rate of 2.2%?"
   ]
  },
  {
   "cell_type": "code",
   "execution_count": 2,
   "id": "08575911-31b0-4b82-a779-64499e52a938",
   "metadata": {},
   "outputs": [
    {
     "name": "stdout",
     "output_type": "stream",
     "text": [
      "Requirement already satisfied: numpy_financial in /opt/anaconda3/lib/python3.9/site-packages (1.0.0)\n",
      "Requirement already satisfied: numpy>=1.15 in /opt/anaconda3/lib/python3.9/site-packages (from numpy_financial) (1.21.5)\n",
      "Note: you may need to restart the kernel to use updated packages.\n"
     ]
    }
   ],
   "source": [
    "pip install numpy_financial"
   ]
  },
  {
   "cell_type": "code",
   "execution_count": 4,
   "id": "95af0a99-9864-409e-b74e-7e091ed906c7",
   "metadata": {},
   "outputs": [],
   "source": [
    "import pandas as pd\n",
    "import numpy as np\n",
    "import numpy_financial as npf"
   ]
  },
  {
   "cell_type": "code",
   "execution_count": 7,
   "id": "9e090370-f289-4a0f-a66e-7561d371bde1",
   "metadata": {},
   "outputs": [],
   "source": [
    "i = 0.022\n",
    "FV = 418\n",
    "n = 12"
   ]
  },
  {
   "cell_type": "code",
   "execution_count": 8,
   "id": "cbb3613d-6736-482f-a03d-27f841cf2989",
   "metadata": {},
   "outputs": [],
   "source": [
    "def pv_f(fv,r,n):\n",
    "    return fv/(1+r)**n"
   ]
  },
  {
   "cell_type": "code",
   "execution_count": 11,
   "id": "cb6d92e3-0a1f-457a-9a87-3c9021eef261",
   "metadata": {},
   "outputs": [
    {
     "name": "stdout",
     "output_type": "stream",
     "text": [
      "$321.93\n"
     ]
    }
   ],
   "source": [
    "PV=pv_f(418,0.022,12)\n",
    "print('$' + '%.2f'% PV)"
   ]
  },
  {
   "cell_type": "code",
   "execution_count": 13,
   "id": "20a675c1-c9ef-4961-bb54-61618d55e717",
   "metadata": {},
   "outputs": [],
   "source": [
    "#2. If you deposit $2,400 in the bank for 15 years and the annual interest rate us 1.75%,\n",
    "    what is the future value of your deposit in 15 years.\n"
   ]
  },
  {
   "cell_type": "code",
   "execution_count": 14,
   "id": "683d30e2-97df-49c2-9ebc-3c27ffaa3793",
   "metadata": {},
   "outputs": [],
   "source": [
    "PV = 2400\n",
    "i = .0175\n",
    "n = 15"
   ]
  },
  {
   "cell_type": "code",
   "execution_count": 15,
   "id": "ae696146-dcc6-43cf-8220-e5c788433bd7",
   "metadata": {},
   "outputs": [
    {
     "data": {
      "text/plain": [
       "3113.3468726281876"
      ]
     },
     "execution_count": 15,
     "metadata": {},
     "output_type": "execute_result"
    }
   ],
   "source": [
    "FV = PV*(1+i)**n\n",
    "FV"
   ]
  },
  {
   "cell_type": "code",
   "execution_count": 16,
   "id": "1b066477-a573-466b-ab9c-72a9e1b0b7c0",
   "metadata": {},
   "outputs": [
    {
     "name": "stdout",
     "output_type": "stream",
     "text": [
      "$3113.35\n"
     ]
    }
   ],
   "source": [
    "print('$' + '%.2f'% FV)"
   ]
  },
  {
   "cell_type": "code",
   "execution_count": null,
   "id": "ca4ff82b-2cdd-4aaa-b78f-04f1ddf4ea7b",
   "metadata": {},
   "outputs": [
    {
     "ename": "SyntaxError",
     "evalue": "invalid syntax (3911856888.py, line 2)",
     "output_type": "error",
     "traceback": [
      "\u001b[0;36m  File \u001b[0;32m\"/var/folders/q2/gkslxrfj0qzb9jsrpjxm2mr80000gn/T/ipykernel_27840/3911856888.py\"\u001b[0;36m, line \u001b[0;32m2\u001b[0m\n\u001b[0;31m    will provide you with the following annual cash flow stream (paid end of year):\u001b[0m\n\u001b[0m         ^\u001b[0m\n\u001b[0;31mSyntaxError\u001b[0m\u001b[0;31m:\u001b[0m invalid syntax\n"
     ]
    }
   ],
   "source": [
    "#3. A capital investment in an equipment with an upfront cost of $23,540 \n",
    "will provide you with the following annual cash flow stream (paid end of year):\n",
    "Calculate the NPV of the investment and comment on whether you should invest in the project.\n",
    "Why or why not? The required rate of return is 3.5%."
   ]
  },
  {
   "cell_type": "code",
   "execution_count": 18,
   "id": "b442cf1b-39ec-4ff5-8b23-f61533bb6ba1",
   "metadata": {},
   "outputs": [
    {
     "name": "stdout",
     "output_type": "stream",
     "text": [
      "$-467.00\n"
     ]
    }
   ],
   "source": [
    "cashflows=[-23540,2000,1456,3230,6850,2384,1234,5987,4190]\n",
    "NPV = npf.npv(0.035,cashflows)\n",
    "\n",
    "print('$' + '%.2f'% NPV)"
   ]
  },
  {
   "cell_type": "code",
   "execution_count": 20,
   "id": "7926970f-a6c6-48cc-83a8-3735ee01dee5",
   "metadata": {},
   "outputs": [
    {
     "name": "stdout",
     "output_type": "stream",
     "text": [
      "NPV is $-467.00\n",
      "Desicion: I will not invest in the project as NPV is less than < 0\n"
     ]
    }
   ],
   "source": [
    "print('NPV is '+'$'+'%.2f' % NPV)\n",
    "print('Desicion: I will not invest in the project as NPV is less than < 0')"
   ]
  },
  {
   "cell_type": "code",
   "execution_count": 21,
   "id": "4ba7f25b-c657-4688-ac36-40b752479dd0",
   "metadata": {},
   "outputs": [],
   "source": [
    "#4. Explain what the time value of money is and why it is so important in the field of finance.\n"
   ]
  },
  {
   "cell_type": "code",
   "execution_count": 22,
   "id": "f76f554a-901d-4927-9c08-47a6b5c920f4",
   "metadata": {},
   "outputs": [
    {
     "ename": "SyntaxError",
     "evalue": "invalid syntax (3730681580.py, line 1)",
     "output_type": "error",
     "traceback": [
      "\u001b[0;36m  File \u001b[0;32m\"/var/folders/q2/gkslxrfj0qzb9jsrpjxm2mr80000gn/T/ipykernel_27840/3730681580.py\"\u001b[0;36m, line \u001b[0;32m1\u001b[0m\n\u001b[0;31m    The time value of money is the concept that money received in the future is worth less than the same amount of money received today. This is because money received today can be invested and earn interest, while money received in the future cannot. This concept is important in finance because it is used to evaluate the potential future worth of investments and to determine the present value of future cash flows. It is also used to calculate things like the future value of an investment, the present value of an annuity, and the rate of return on an investment.\u001b[0m\n\u001b[0m        ^\u001b[0m\n\u001b[0;31mSyntaxError\u001b[0m\u001b[0;31m:\u001b[0m invalid syntax\n"
     ]
    }
   ],
   "source": [
    "The time value of money is the concept that money received in the future is worth less than\n",
    "the same amount of money received today.\n",
    "This is because money received today can be invested and earn interest, while money received in the future cannot.\n",
    "This concept is important in finance because it is used to evaluate the potential future worth of investments and\n",
    "to determine the present value of future cash flows.\n",
    "It is also used to calculate things like the future value of an investment,\n",
    "the present value of an annuity, and the rate of return on an investment."
   ]
  },
  {
   "cell_type": "code",
   "execution_count": null,
   "id": "4d985f4a-7548-45fc-a1d3-ee1e8972e808",
   "metadata": {},
   "outputs": [],
   "source": []
  }
 ],
 "metadata": {
  "kernelspec": {
   "display_name": "Python 3 (ipykernel)",
   "language": "python",
   "name": "python3"
  },
  "language_info": {
   "codemirror_mode": {
    "name": "ipython",
    "version": 3
   },
   "file_extension": ".py",
   "mimetype": "text/x-python",
   "name": "python",
   "nbconvert_exporter": "python",
   "pygments_lexer": "ipython3",
   "version": "3.9.13"
  }
 },
 "nbformat": 4,
 "nbformat_minor": 5
}
